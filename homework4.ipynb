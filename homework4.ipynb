{
 "cells": [
  {
   "cell_type": "markdown",
   "metadata": {},
   "source": [
    "home work 4"
   ]
  },
  {
   "cell_type": "code",
   "execution_count": 1,
   "metadata": {},
   "outputs": [],
   "source": [
    "import cv2\n",
    "import numpy as np\n",
    "from matplotlib import pyplot as plt"
   ]
  },
  {
   "cell_type": "code",
   "execution_count": 2,
   "metadata": {},
   "outputs": [],
   "source": [
    "img = cv2.imread('dsu1.jpg')\n",
    "rows,cols,ch = img.shape\n",
    "pts1 = np.float32([[330,284],[756,317],[332,514],[768,507]])\n",
    "pts2 = np.float32([[0,0],[600,0],[0,300],[600,300]])\n",
    "M = cv2.getPerspectiveTransform(pts1,pts2)\n",
    "dst1 = cv2.warpPerspective(img,M,(600,300))"
   ]
  },
  {
   "cell_type": "code",
   "execution_count": 3,
   "metadata": {},
   "outputs": [],
   "source": [
    "img = cv2.imread('dsu2.jpg')\n",
    "rows,cols,ch = img.shape\n",
    "pts1 = np.float32([[185,246],[818,221],[181,501],[816,508]])\n",
    "pts2 = np.float32([[0,0],[600,0],[0,300],[600,300]])\n",
    "M = cv2.getPerspectiveTransform(pts1,pts2)\n",
    "dst2 = cv2.warpPerspective(img,M,(600,300))"
   ]
  },
  {
   "cell_type": "code",
   "execution_count": 4,
   "metadata": {},
   "outputs": [],
   "source": [
    "res = cv2.hconcat([dst1,dst2])\n",
    "cv2.imshow('homework4',res)\n",
    "cv2.waitKey(0)\n",
    "cv2.destroyAllWindows()"
   ]
  }
 ],
 "metadata": {
  "kernelspec": {
   "display_name": "Python 3.8.13 ('opencv')",
   "language": "python",
   "name": "python3"
  },
  "language_info": {
   "codemirror_mode": {
    "name": "ipython",
    "version": 3
   },
   "file_extension": ".py",
   "mimetype": "text/x-python",
   "name": "python",
   "nbconvert_exporter": "python",
   "pygments_lexer": "ipython3",
   "version": "3.8.13"
  },
  "orig_nbformat": 4,
  "vscode": {
   "interpreter": {
    "hash": "5f30c7339386cd3da1627d41b7498b0854615356d7cb3767948352d65b58c479"
   }
  }
 },
 "nbformat": 4,
 "nbformat_minor": 2
}
